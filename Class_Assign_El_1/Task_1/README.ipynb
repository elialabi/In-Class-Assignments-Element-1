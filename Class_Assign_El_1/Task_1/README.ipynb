{
 "cells": [
  {
   "cell_type": "markdown",
   "metadata": {},
   "source": [
    "# Task 1 Overview and Implementation Readme\n",
    "\n",
    "## What the task was about\n",
    "The goal of this assignment (Task 1) was to explore the dataset provided and perform a series of analyses to understand the relationship between various variables and mobile phone usage. The tasks included data preprocessing, visualization of data relationships and distributions, correlation checks, linear regression, multiple regression, and two specific scenarios related to visual search reaction times.\n",
    "\n",
    "## Understanding the Bigger Picture\n",
    "The assignment aimed to investigate whether users with high mobile usage find a given visual search target faster, considering interactions with other independent variables like gender and age.\n",
    "\n",
    "## Mathematics and Statistics Involved\n",
    "The tasks involved a range of statistical techniques, including data preprocessing, frequency tables, data visualization, correlation analysis, linear regression, and multiple regression. The statistical concepts encompassed descriptive statistics, bivariate correlation, and regression analysis.\n",
    "\n",
    "## Implementation Details\n",
    "The implementation involved using Python and relevant libraries such as NumPy, Pandas, and Matplotlib. Specific statistical tests were applied to address hypotheses in each scenario. Assumptions were identified, and appropriate visualizations were utilized for validation.\n",
    "\n",
    "## Outcomes of Each Sub Task\n",
    "Detailed interpretations and explanations were provided for each sub-task's outcomes. This included insights gained from exploratory analyses, correlations, regression results, and scenario-specific tests.\n",
    "\n",
    "## Challenges and Resolutions\n",
    "Throughout the assignment, challenges were encountered, including data quality issues, selecting appropriate statistical tests, and ensuring assumptions were met. Solutions included thorough data inspection, comparative analyses for test selection, and visualization for assumption validation.\n",
    "\n",
    "## References\n",
    "1. Pandas Documentation: [Pandas Documentation](https://pandas.pydata.org/docs/)\n",
    "2. NumPy Documentation: [NumPy Documentation](https://numpy.org/doc/)\n",
    "3. Matplotlib Documentation: [Matplotlib Documentation](https://matplotlib.org/stable/contents.html)\n",
    "\n",
    "**(i)** Syntax for printing unique values: [Stack Overflow](https://stackoverflow.com/questions/27241253/print-the-unique-values-in-every-column-in-a-pandas-dataframe)\n",
    "- **(ii)** Syntax for Converting to numeric: [GitHub](https://github.com/pandas-dev/pandas/issues/17007)\n",
    "- **(iii)** random.normal numpy function: [NumPy Documentation](https://numpy.org/doc/stable/reference/random/generated/numpy.random.normal.html)\n",
    "\n",
    "\n",
    "\n",
    "## Further Reading\n",
    "\n",
    "1. Practical Statistics for Data Science*, by Peter Bruce, Andrew Bruce and Peter Gedeck - [Link](https://ebookcentral.proquest.com/lib/UAL/detail.action?docID=6173908#)\n",
    "2. Grus, J. (2019). *Data Science from Scratch: First Principles with Python*. O'Reilly Media, Inc.\n",
    "4. Stephen Marsland: *Machine Learning: An Algorithmic Perspective (Chapman & Hall/CRC Machine Learning & Pattern Recognition)*\n",
    "6. Eldén, L. (2007). *Matrix Methods in Data Mining and Pattern Recognition*. United States: Society for Industrial and Applied Mathematics\n",
    "\n",
    "\n",
    "\n",
    "**Special thanks to Dr. Kayalvizhi Jayavel for her invaluable assistance and guidance throughout this assignment. Additionally, we express gratitude to Prof. Tim Smith for providing engaging research and data, enriching our learning experience.**"
   ]
  }
 ],
 "metadata": {
  "language_info": {
   "name": "python"
  }
 },
 "nbformat": 4,
 "nbformat_minor": 2
}
